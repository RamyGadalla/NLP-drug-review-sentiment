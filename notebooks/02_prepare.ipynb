{
 "cells": [
  {
   "cell_type": "code",
   "execution_count": 1,
   "id": "c25d9f6c",
   "metadata": {},
   "outputs": [],
   "source": [
    "import pandas as pd\n",
    "import os"
   ]
  },
  {
   "cell_type": "code",
   "execution_count": 2,
   "id": "965e11a1",
   "metadata": {},
   "outputs": [
    {
     "name": "stdout",
     "output_type": "stream",
     "text": [
      "Train shape: 161,297 rows × 7 columns\n",
      "Test shape : 53,766 rows × 7 columns\n"
     ]
    }
   ],
   "source": [
    "# Paths to the CLEANED TSVs from Step 4\n",
    "PROC_DIR   = \"../data/processed\"\n",
    "TRAIN_CLEAN = f\"{PROC_DIR}/drugsComTrain_clean.tsv\"\n",
    "TEST_CLEAN  = f\"{PROC_DIR}/drugsComTest_clean.tsv\"\n",
    "\n",
    "assert os.path.exists(TRAIN_CLEAN), f\"Missing: {TRAIN_CLEAN} (re-run 01_eda to save cleaned files)\"\n",
    "assert os.path.exists(TEST_CLEAN),  f\"Missing: {TEST_CLEAN}  (re-run 01_eda to save cleaned files)\"\n",
    "\n",
    "df_train = pd.read_csv(TRAIN_CLEAN, sep=\"\\t\")\n",
    "df_test  = pd.read_csv(TEST_CLEAN,  sep=\"\\t\")\n",
    "\n",
    "print(f\"Train shape: {df_train.shape[0]:,} rows × {df_train.shape[1]} columns\")\n",
    "print(f\"Test shape : {df_test.shape[0]:,} rows × {df_test.shape[1]} columns\")"
   ]
  },
  {
   "cell_type": "code",
   "execution_count": null,
   "id": "cbeee8a2",
   "metadata": {},
   "outputs": [],
   "source": [
    "# Create binary labels from numeric 'rating'\n",
    "# Mapping: Positive (1) = rating >= 8 ; Negative (0) = rating <= 7\n",
    "df_train[\"rating\"] = pd.to_numeric(df_train[\"rating\"], errors=\"coerce\")\n",
    "df_test[\"rating\"]  = pd.to_numeric(df_test[\"rating\"],  errors=\"coerce\")\n",
    "\n",
    "def map_binary_label(r):\n",
    "    if pd.isna(r):\n",
    "        return pd.NA\n",
    "    return 1 if r >= 8 else 0\n",
    "\n",
    "df_train[\"label_bin\"] = df_train[\"rating\"].map(map_binary_label)\n",
    "df_test[\"label_bin\"]  = df_test[\"rating\"].map(map_binary_label)\n",
    "\n",
    "# quick peek\n",
    "df_train[[\"rating\", \"label_bin\"]].head(10)\n"
   ]
  },
  {
   "cell_type": "code",
   "execution_count": 5,
   "id": "642881c2",
   "metadata": {},
   "outputs": [
    {
     "name": "stdout",
     "output_type": "stream",
     "text": [
      "Missing (train):\n",
      "review_clean    0\n",
      "rating          0\n",
      "label_bin       0\n",
      "dtype: int64 \n",
      "\n",
      "Missing (test):\n",
      "review_clean    0\n",
      "rating          0\n",
      "label_bin       0\n",
      "dtype: int64 \n",
      "\n",
      "Train — label_bin counts:\n",
      "  0: 63,887  (39.6%)\n",
      "  1: 97,410  (60.4%)\n",
      "\n",
      "Test — label_bin counts:\n",
      "  0: 21,417  (39.8%)\n",
      "  1: 32,349  (60.2%)\n",
      "\n"
     ]
    }
   ],
   "source": [
    "# Sanity checks: missing + class balance\n",
    "print(\"Missing (train):\")\n",
    "print(df_train[[\"review_clean\", \"rating\", \"label_bin\"]].isna().sum(), \"\\n\")\n",
    "\n",
    "print(\"Missing (test):\")\n",
    "print(df_test[[\"review_clean\", \"rating\", \"label_bin\"]].isna().sum(), \"\\n\")\n",
    "\n",
    "def show_class_stats(df, name=\"\"):\n",
    "    counts = df[\"label_bin\"].value_counts(dropna=False).sort_index()\n",
    "    total = counts.sum()\n",
    "    print(f\"{name} — label_bin counts:\")\n",
    "    for k, v in counts.items():\n",
    "        pct = (v / total * 100) if total else 0\n",
    "        print(f\"  {k}: {v:,}  ({pct:.1f}%)\")\n",
    "    print()\n",
    "\n",
    "show_class_stats(df_train, \"Train\")\n",
    "show_class_stats(df_test,  \"Test\")\n"
   ]
  },
  {
   "cell_type": "code",
   "execution_count": 6,
   "id": "320a8bf4",
   "metadata": {},
   "outputs": [
    {
     "name": "stdout",
     "output_type": "stream",
     "text": [
      "Saved:\n",
      " - ../data/processed/drugsComTrain_clean_labeled.tsv\n",
      " - ../data/processed/drugsComTest_clean_labeled.tsv\n"
     ]
    }
   ],
   "source": [
    "#  Save labeled versions (still the CLEANED text)\n",
    "OUT_TRAIN = f\"{PROC_DIR}/drugsComTrain_clean_labeled.tsv\"\n",
    "OUT_TEST  = f\"{PROC_DIR}/drugsComTest_clean_labeled.tsv\"\n",
    "\n",
    "cols = [\"drugName\",\"condition\",\"review\",\"review_clean\",\"rating\",\"label_bin\",\"date\",\"usefulCount\"]\n",
    "\n",
    "df_train[cols].to_csv(OUT_TRAIN, sep=\"\\t\", index=False, encoding=\"utf-8\")\n",
    "df_test[cols].to_csv(OUT_TEST,  sep=\"\\t\", index=False, encoding=\"utf-8\")\n",
    "\n",
    "print(\"Saved:\")\n",
    "print(f\" - {OUT_TRAIN}\")\n",
    "print(f\" - {OUT_TEST}\")\n"
   ]
  }
 ],
 "metadata": {
  "kernelspec": {
   "display_name": "base",
   "language": "python",
   "name": "python3"
  },
  "language_info": {
   "codemirror_mode": {
    "name": "ipython",
    "version": 3
   },
   "file_extension": ".py",
   "mimetype": "text/x-python",
   "name": "python",
   "nbconvert_exporter": "python",
   "pygments_lexer": "ipython3",
   "version": "3.10.15"
  }
 },
 "nbformat": 4,
 "nbformat_minor": 5
}
