{
 "cells": [
  {
   "cell_type": "code",
   "execution_count": 1,
   "id": "ec84f24f",
   "metadata": {},
   "outputs": [],
   "source": [
    "# Core libs\n",
    "import os\n",
    "import json\n",
    "import pandas as pd\n",
    "import numpy as np\n",
    "\n",
    "# Modeling & evaluation\n",
    "from sklearn.feature_extraction.text import TfidfVectorizer\n",
    "from sklearn.linear_model import LogisticRegression\n",
    "from sklearn.metrics import (\n",
    "    accuracy_score, f1_score, classification_report,\n",
    "    confusion_matrix\n",
    ")\n",
    "\n",
    "# Persistence & plotting\n",
    "import joblib\n",
    "import matplotlib.pyplot as plt\n",
    "\n",
    "# Paths (relative to this notebook in notebooks/)\n",
    "TRAIN_PATH = \"../data/processed/drugsComTrain_clean_labeled.tsv\"\n",
    "TEST_PATH  = \"../data/processed/drugsComTest_clean_labeled.tsv\"\n",
    "\n",
    "# Output locations\n",
    "ARTIF_DIR   = \"../artifacts/tfidf_baseline\"\n",
    "FIG_DIR     = \"../reports/figures\"\n",
    "os.makedirs(ARTIF_DIR, exist_ok=True)\n",
    "os.makedirs(FIG_DIR, exist_ok=True)\n",
    "\n",
    "SEED = 42  # reproducibility\n",
    "np.random.seed(SEED)\n"
   ]
  },
  {
   "cell_type": "code",
   "execution_count": 2,
   "id": "66fa0c26",
   "metadata": {},
   "outputs": [
    {
     "name": "stdout",
     "output_type": "stream",
     "text": [
      "Train shape: 161,297 rows × 8 columns\n",
      "Test shape : 53,766 rows × 8 columns\n"
     ]
    }
   ],
   "source": [
    "# Read TSVs with cleaned text and binary labels\n",
    "df_train = pd.read_csv(TRAIN_PATH, sep=\"\\t\")\n",
    "df_test  = pd.read_csv(TEST_PATH,  sep=\"\\t\")\n",
    "\n",
    "print(f\"Train shape: {df_train.shape[0]:,} rows × {df_train.shape[1]} columns\")\n",
    "print(f\"Test shape : {df_test.shape[0]:,} rows × {df_test.shape[1]} columns\")\n",
    "\n",
    "# Sanity: required columns\n",
    "required = {\"review_clean\", \"label_bin\"}\n",
    "missing_train = required - set(df_train.columns)\n",
    "missing_test  = required - set(df_test.columns)\n",
    "assert not missing_train and not missing_test, (missing_train, missing_test)\n"
   ]
  },
  {
   "cell_type": "code",
   "execution_count": 3,
   "id": "f7844f1a",
   "metadata": {},
   "outputs": [
    {
     "name": "stdout",
     "output_type": "stream",
     "text": [
      "After filtering → Train: 161,297 | Test: 53,766\n",
      "Class balance (train):\n",
      "label_bin\n",
      "neg    39.6%\n",
      "pos    60.4%\n",
      "Name: proportion, dtype: object\n",
      "Class balance (test):\n",
      "label_bin\n",
      "neg    39.8%\n",
      "pos    60.2%\n",
      "Name: proportion, dtype: object\n"
     ]
    }
   ],
   "source": [
    "def drop_bad_rows(df):\n",
    "    # Drop rows where text or label is missing\n",
    "    df = df.dropna(subset=[\"review_clean\", \"label_bin\"]).copy()\n",
    "    # Remove rows where cleaned text is empty after stripping\n",
    "    df = df[df[\"review_clean\"].str.strip().str.len() > 0]\n",
    "    # Ensure label is int (0/1)\n",
    "    df[\"label_bin\"] = df[\"label_bin\"].astype(int)\n",
    "    return df\n",
    "\n",
    "df_train = drop_bad_rows(df_train)\n",
    "df_test  = drop_bad_rows(df_test)\n",
    "\n",
    "print(f\"After filtering → Train: {len(df_train):,} | Test: {len(df_test):,}\")\n",
    "print(\"Class balance (train):\")\n",
    "print(df_train[\"label_bin\"].value_counts(normalize=True).sort_index().rename({0:\"neg\",1:\"pos\"}).map(lambda x: f\"{x*100:.1f}%\"))\n",
    "print(\"Class balance (test):\")\n",
    "print(df_test[\"label_bin\"].value_counts(normalize=True).sort_index().rename({0:\"neg\",1:\"pos\"}).map(lambda x: f\"{x*100:.1f}%\"))\n"
   ]
  },
  {
   "cell_type": "code",
   "execution_count": 4,
   "id": "cc6721b3",
   "metadata": {},
   "outputs": [
    {
     "name": "stdout",
     "output_type": "stream",
     "text": [
      "X_train shape: (161297, 200000) | X_test shape: (53766, 200000)\n"
     ]
    }
   ],
   "source": [
    "# Vectorizer settings: unigrams + bigrams; drop ultra-rare terms; cap vocab\n",
    "vectorizer = TfidfVectorizer(\n",
    "    ngram_range=(1, 2),      # unigrams + bigrams\n",
    "    min_df=5,                # ignore terms in <5 docs\n",
    "    max_features=200_000,    # vocab cap\n",
    "    sublinear_tf=True,       # log(1+tf)\n",
    "    use_idf=True, smooth_idf=True,\n",
    "    norm=\"l2\",\n",
    "    lowercase=True\n",
    ")\n",
    "\n",
    "# Fit on TRAIN text only, then transform train and test\n",
    "X_train = vectorizer.fit_transform(df_train[\"review_clean\"].values)\n",
    "X_test  = vectorizer.transform(df_test[\"review_clean\"].values)\n",
    "\n",
    "y_train = df_train[\"label_bin\"].values\n",
    "y_test  = df_test[\"label_bin\"].values\n",
    "\n",
    "print(f\"X_train shape: {X_train.shape} | X_test shape: {X_test.shape}\")\n"
   ]
  },
  {
   "cell_type": "code",
   "execution_count": 5,
   "id": "e3f854e7",
   "metadata": {},
   "outputs": [
    {
     "name": "stdout",
     "output_type": "stream",
     "text": [
      "Training complete.\n"
     ]
    }
   ],
   "source": [
    "# train logisitic regression classifier\n",
    "clf = LogisticRegression(\n",
    "    penalty=\"l2\",\n",
    "    solver=\"liblinear\",   # solid for smaller/sparse problems\n",
    "    C=1.0,\n",
    "    class_weight=\"balanced\",  # compensate class imbalance\n",
    "    max_iter=1000,\n",
    "    random_state=SEED\n",
    ")\n",
    "clf.fit(X_train, y_train)\n",
    "\n",
    "print(\"Training complete.\")\n"
   ]
  },
  {
   "cell_type": "code",
   "execution_count": null,
   "id": "c8f703b2",
   "metadata": {},
   "outputs": [
    {
     "name": "stdout",
     "output_type": "stream",
     "text": [
      "Accuracy : 0.8642\n",
      "Macro-F1 : 0.8597\n",
      "F1 (neg) : 0.8343\n",
      "F1 (pos) : 0.8850\n",
      "\n",
      "Classification report:\n",
      "              precision    recall  f1-score   support\n",
      "\n",
      "           0     0.8117    0.8583    0.8343     21417\n",
      "           1     0.9025    0.8682    0.8850     32349\n",
      "\n",
      "    accuracy                         0.8642     53766\n",
      "   macro avg     0.8571    0.8632    0.8597     53766\n",
      "weighted avg     0.8663    0.8642    0.8648     53766\n",
      "\n"
     ]
    }
   ],
   "source": [
    "# Predictions & probabilities\n",
    "y_pred = clf.predict(X_test)\n",
    "\n",
    "# Metrics\n",
    "acc = accuracy_score(y_test, y_pred)\n",
    "macro_f1 = f1_score(y_test, y_pred, average=\"macro\")\n",
    "f1_pos = f1_score(y_test, y_pred, pos_label=1)\n",
    "f1_neg = f1_score(y_test, y_pred, pos_label=0)\n",
    "\n",
    "print(f\"Accuracy : {acc:.4f}\")\n",
    "print(f\"Macro-F1 : {macro_f1:.4f}\")\n",
    "print(f\"F1 (neg) : {f1_neg:.4f}\")\n",
    "print(f\"F1 (pos) : {f1_pos:.4f}\")\n",
    "\n",
    "\n",
    "print(\"\\nClassification report:\")\n",
    "print(classification_report(y_test, y_pred, digits=4))\n"
   ]
  },
  {
   "cell_type": "code",
   "execution_count": null,
   "id": "1529374d",
   "metadata": {},
   "outputs": [],
   "source": [
    "cm = confusion_matrix(y_test, y_pred, labels=[0, 1])\n",
    "\n",
    "fig, ax = plt.subplots(figsize=(4, 4))\n",
    "im = ax.imshow(cm, interpolation=\"nearest\")\n",
    "ax.set_title(\"TF-IDF + LR — Confusion Matrix\")\n",
    "ax.set_xlabel(\"Predicted\")\n",
    "ax.set_ylabel(\"True\")\n",
    "ax.set_xticks([0, 1]); ax.set_yticks([0, 1])\n",
    "ax.set_xticklabels([\"0 (neg)\", \"1 (pos)\"])\n",
    "ax.set_yticklabels([\"0 (neg)\", \"1 (pos)\"])\n",
    "\n",
    "# annotate counts\n",
    "for (i, j), v in np.ndenumerate(cm):\n",
    "    ax.text(j, i, str(v), ha=\"center\", va=\"center\")\n",
    "\n",
    "plt.tight_layout()\n",
    "out_fig = os.path.join(FIG_DIR, \"tfidf_confusion_matrix.png\")\n",
    "plt.savefig(out_fig, dpi=150)\n",
    "plt.show()\n",
    "\n",
    "print(f\"Saved confusion matrix → {out_fig}\")\n"
   ]
  },
  {
   "cell_type": "code",
   "execution_count": 7,
   "id": "023f064f",
   "metadata": {},
   "outputs": [
    {
     "data": {
      "image/png": "[encoded data removed]",
      "text/plain": [
       "<Figure size 400x400 with 1 Axes>"
      ]
     },
     "metadata": {},
     "output_type": "display_data"
    },
    {
     "name": "stdout",
     "output_type": "stream",
     "text": [
      "Saved confusion matrix → ../reports/figures/tfidf_confusion_matrix.png\n"
     ]
    }
   ],
   "source": [
    "cm = confusion_matrix(y_test, y_pred, labels=[0, 1])\n",
    "\n",
    "fig, ax = plt.subplots(figsize=(4, 4))\n",
    "im = ax.imshow(cm, interpolation=\"nearest\")\n",
    "ax.set_title(\"TF-IDF + LR — Confusion Matrix\")\n",
    "ax.set_xlabel(\"Predicted\")\n",
    "ax.set_ylabel(\"True\")\n",
    "ax.set_xticks([0, 1]); ax.set_yticks([0, 1])\n",
    "ax.set_xticklabels([\"0 (neg)\", \"1 (pos)\"])\n",
    "ax.set_yticklabels([\"0 (neg)\", \"1 (pos)\"])\n",
    "\n",
    "# annotate counts\n",
    "for (i, j), v in np.ndenumerate(cm):\n",
    "    ax.text(j, i, str(v), ha=\"center\", va=\"center\")\n",
    "\n",
    "plt.tight_layout()\n",
    "out_fig = os.path.join(FIG_DIR, \"tfidf_confusion_matrix.png\")\n",
    "plt.savefig(out_fig, dpi=150)\n",
    "plt.show()\n",
    "\n",
    "print(f\"Saved confusion matrix → {out_fig}\")\n"
   ]
  },
  {
   "cell_type": "code",
   "execution_count": 9,
   "id": "17387c24",
   "metadata": {},
   "outputs": [
    {
     "name": "stdout",
     "output_type": "stream",
     "text": [
      "Saved metrics → ../artifacts/tfidf_baseline/metrics.json\n"
     ]
    },
    {
     "data": {
      "text/plain": [
       "{'accuracy': 0.8642264628203697,\n",
       " 'macro_f1': 0.8596566444270615,\n",
       " 'f1_neg': 0.8343318809005084,\n",
       " 'f1_pos': 0.8849814079536145,\n",
       " 'n_train': 161297,\n",
       " 'n_test': 53766,\n",
       " 'vocab_size': 200000}"
      ]
     },
     "execution_count": 9,
     "metadata": {},
     "output_type": "execute_result"
    }
   ],
   "source": [
    "metrics = {\n",
    "    \"accuracy\": float(acc),\n",
    "    \"macro_f1\": float(macro_f1),\n",
    "    \"f1_neg\": float(f1_neg),\n",
    "    \"f1_pos\": float(f1_pos),\n",
    "    \"n_train\": int(X_train.shape[0]),\n",
    "    \"n_test\": int(X_test.shape[0]),\n",
    "    \"vocab_size\": int(len(vectorizer.vocabulary_))\n",
    "}\n",
    "\n",
    "out_metrics = os.path.join(ARTIF_DIR, \"metrics.json\")\n",
    "with open(out_metrics, \"w\") as f:\n",
    "    json.dump(metrics, f, indent=2)\n",
    "\n",
    "print(f\"Saved metrics → {out_metrics}\")\n",
    "metrics"
   ]
  },
  {
   "cell_type": "code",
   "execution_count": 10,
   "id": "1019cba4",
   "metadata": {},
   "outputs": [
    {
     "name": "stdout",
     "output_type": "stream",
     "text": [
      "Saved artifacts:\n",
      " - ../artifacts/tfidf_baseline/vectorizer.joblib\n",
      " - ../artifacts/tfidf_baseline/model.joblib\n"
     ]
    }
   ],
   "source": [
    "vec_path = os.path.join(ARTIF_DIR, \"vectorizer.joblib\")\n",
    "mdl_path = os.path.join(ARTIF_DIR, \"model.joblib\")\n",
    "\n",
    "joblib.dump(vectorizer, vec_path)\n",
    "joblib.dump(clf, mdl_path)\n",
    "\n",
    "print(\"Saved artifacts:\")\n",
    "print(f\" - {vec_path}\")\n",
    "print(f\" - {mdl_path}\")\n"
   ]
  },
  {
   "cell_type": "code",
   "execution_count": 11,
   "id": "5f76c653",
   "metadata": {},
   "outputs": [
    {
     "name": "stdout",
     "output_type": "stream",
     "text": [
      "Top positive terms:\n",
      "['love' 'amazing' 'miracle' 'best' 'great' 'love it' 'wonderful'\n",
      " 'love this' 'years' 'no side' 'works' 'life' 'saved' 'excellent' 'gone'\n",
      " 'highly recommend' 'the only' 'happy' 'awesome' 'highly']\n",
      "\n",
      "Top negative terms:\n",
      "['worse' 'not recommend' 'not worth' 'not' 'gained' 'worst' 'horrible'\n",
      " 'disappointed' 'no relief' 'depressed' 'terrible' 'it removed'\n",
      " 'nothing for' 'switching' 'hoping' 'this' 'bleeding' 'the side'\n",
      " 'never again' 'removed']\n"
     ]
    }
   ],
   "source": [
    "# Examine which tokens push predictions toward pos/neg\n",
    "# (only for curiosity and debugging —)\n",
    "feature_names = np.array(vectorizer.get_feature_names_out())\n",
    "coefs = clf.coef_.ravel()  # 1D array; positive -> class 1, negative -> class 0\n",
    "\n",
    "top_pos_idx = np.argsort(coefs)[-20:][::-1]\n",
    "top_neg_idx = np.argsort(coefs)[:20]\n",
    "\n",
    "print(\"Top positive terms:\")\n",
    "print(feature_names[top_pos_idx])\n",
    "\n",
    "print(\"\\nTop negative terms:\")\n",
    "print(feature_names[top_neg_idx])\n"
   ]
  }
 ],
 "metadata": {
  "kernelspec": {
   "display_name": "base",
   "language": "python",
   "name": "python3"
  },
  "language_info": {
   "codemirror_mode": {
    "name": "ipython",
    "version": 3
   },
   "file_extension": ".py",
   "mimetype": "text/x-python",
   "name": "python",
   "nbconvert_exporter": "python",
   "pygments_lexer": "ipython3",
   "version": "3.10.15"
  }
 },
 "nbformat": 4,
 "nbformat_minor": 5
}
