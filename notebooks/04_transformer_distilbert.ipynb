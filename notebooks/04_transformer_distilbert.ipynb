{
 "cells": [
  {
   "cell_type": "code",
   "execution_count": 1,
   "id": "e60ac550",
   "metadata": {},
   "outputs": [],
   "source": [
    "import os, json, numpy as np, pandas as pd\n",
    "import torch\n",
    "from sklearn.metrics import accuracy_score, f1_score, confusion_matrix\n",
    "import matplotlib.pyplot as plt\n",
    "\n",
    "# Transformers & Datasets\n",
    "from datasets import Dataset\n",
    "from transformers import (\n",
    "    AutoTokenizer, AutoModelForSequenceClassification,\n",
    "    TrainingArguments, Trainer\n",
    ")\n",
    "\n",
    "TRAIN_PATH = \"../data/processed/drugsComTrain_clean_labeled.tsv\"\n",
    "TEST_PATH  = \"../data/processed/drugsComTest_clean_labeled.tsv\"\n",
    "\n",
    "ARTIF_DIR  = \"../artifacts/distilbert_binary\"\n",
    "FIG_DIR    = \"../reports/figures\"\n",
    "os.makedirs(ARTIF_DIR, exist_ok=True)\n",
    "os.makedirs(FIG_DIR, exist_ok=True)\n",
    "\n",
    "SEED = 42\n",
    "np.random.seed(SEED)\n",
    "torch.manual_seed(SEED)\n",
    "\n",
    "MODEL_NAME = \"distilbert-base-uncased\"   \n",
    "MAX_LEN    = 256 \n"
   ]
  },
  {
   "cell_type": "code",
   "execution_count": null,
   "id": "34cf8104",
   "metadata": {},
   "outputs": [
    {
     "name": "stdout",
     "output_type": "stream",
     "text": [
      "Train rows: 145,167 | Val rows: 16,130 | Test rows: 53,766\n"
     ]
    }
   ],
   "source": [
    "df_train = pd.read_csv(TRAIN_PATH, sep=\"\\t\")\n",
    "df_test  = pd.read_csv(TEST_PATH,  sep=\"\\t\")\n",
    "\n",
    "# Keep only the columns we need for modeling\n",
    "cols_needed = [\"review_clean\", \"label_bin\"]\n",
    "df_train = df_train[cols_needed].dropna().copy()\n",
    "df_test  = df_test[cols_needed].dropna().copy()\n",
    "\n",
    "# Rename label column to 'labels' \n",
    "df_train = df_train.rename(columns={\"label_bin\": \"labels\"})\n",
    "df_test  = df_test.rename(columns={\"label_bin\": \"labels\"})\n",
    "\n",
    "# Create a small validation split (10%) from TRAIN, stratified by labels\n",
    "from sklearn.model_selection import train_test_split\n",
    "df_tr, df_val = train_test_split(\n",
    "    df_train, test_size=0.10, stratify=df_train[\"labels\"], random_state=SEED\n",
    ")\n",
    "\n",
    "print(f\"Train rows: {len(df_tr):,} | Val rows: {len(df_val):,} | Test rows: {len(df_test):,}\")\n"
   ]
  },
  {
   "cell_type": "code",
   "execution_count": 3,
   "id": "1a645fce",
   "metadata": {},
   "outputs": [
    {
     "data": {
      "text/plain": [
       "(Dataset({\n",
       "     features: ['review_clean', 'labels'],\n",
       "     num_rows: 145167\n",
       " }),\n",
       " Dataset({\n",
       "     features: ['review_clean', 'labels'],\n",
       "     num_rows: 16130\n",
       " }),\n",
       " Dataset({\n",
       "     features: ['review_clean', 'labels'],\n",
       "     num_rows: 53766\n",
       " }))"
      ]
     },
     "execution_count": 3,
     "metadata": {},
     "output_type": "execute_result"
    }
   ],
   "source": [
    "ds_tr  = Dataset.from_pandas(df_tr.reset_index(drop=True))\n",
    "ds_val = Dataset.from_pandas(df_val.reset_index(drop=True))\n",
    "ds_te  = Dataset.from_pandas(df_test.reset_index(drop=True))\n",
    "\n",
    "ds_tr, ds_val, ds_te\n"
   ]
  },
  {
   "cell_type": "code",
   "execution_count": 4,
   "id": "871fceff",
   "metadata": {},
   "outputs": [
    {
     "data": {
      "application/vnd.jupyter.widget-view+json": {
       "model_id": "a948906acbd6470b98ff9613edec8ca0",
       "version_major": 2,
       "version_minor": 0
      },
      "text/plain": [
       "Map:   0%|          | 0/145167 [00:00<?, ? examples/s]"
      ]
     },
     "metadata": {},
     "output_type": "display_data"
    },
    {
     "data": {
      "application/vnd.jupyter.widget-view+json": {
       "model_id": "7a4a5b457c48438e9810b3ef41fed3d6",
       "version_major": 2,
       "version_minor": 0
      },
      "text/plain": [
       "Map:   0%|          | 0/16130 [00:00<?, ? examples/s]"
      ]
     },
     "metadata": {},
     "output_type": "display_data"
    },
    {
     "data": {
      "application/vnd.jupyter.widget-view+json": {
       "model_id": "566348b4472c497081cffa109a905771",
       "version_major": 2,
       "version_minor": 0
      },
      "text/plain": [
       "Map:   0%|          | 0/53766 [00:00<?, ? examples/s]"
      ]
     },
     "metadata": {},
     "output_type": "display_data"
    },
    {
     "name": "stdout",
     "output_type": "stream",
     "text": [
      "Dataset({\n",
      "    features: ['labels', 'input_ids', 'attention_mask'],\n",
      "    num_rows: 145167\n",
      "})\n"
     ]
    }
   ],
   "source": [
    "tokenizer = AutoTokenizer.from_pretrained(MODEL_NAME)\n",
    "\n",
    "def tokenize(batch):\n",
    "    return tokenizer(\n",
    "        batch[\"review_clean\"],\n",
    "        padding=\"max_length\",\n",
    "        truncation=True,\n",
    "        max_length=MAX_LEN\n",
    "    )\n",
    "\n",
    "# Map tokenization over each split; keep labels; drop raw text columns for training\n",
    "tok_tr  = ds_tr.map(tokenize, batched=True, remove_columns=[\"review_clean\"])\n",
    "tok_val = ds_val.map(tokenize, batched=True, remove_columns=[\"review_clean\"])\n",
    "tok_te  = ds_te.map(tokenize, batched=True, remove_columns=[\"review_clean\"])\n",
    "\n",
    "# Set the format so PyTorch tensors are returned in the Trainer\n",
    "tok_tr.set_format(type=\"torch\", columns=[\"input_ids\", \"attention_mask\", \"labels\"])\n",
    "tok_val.set_format(type=\"torch\", columns=[\"input_ids\", \"attention_mask\", \"labels\"])\n",
    "tok_te.set_format(type=\"torch\", columns=[\"input_ids\", \"attention_mask\", \"labels\"])\n",
    "\n",
    "print(tok_tr)\n"
   ]
  },
  {
   "cell_type": "code",
   "execution_count": null,
   "id": "19dd6ba7",
   "metadata": {},
   "outputs": [
    {
     "name": "stdout",
     "output_type": "stream",
     "text": [
      "Using fp16: False | Device: CPU/MPS\n"
     ]
    },
    {
     "name": "stderr",
     "output_type": "stream",
     "text": [
      "/home/ramy/miniforge3/lib/python3.10/site-packages/torch/cuda/__init__.py:129: UserWarning: CUDA initialization: CUDA unknown error - this may be due to an incorrectly set up environment, e.g. changing env variable CUDA_VISIBLE_DEVICES after program start. Setting the available devices to be zero. (Triggered internally at /opt/conda/conda-bld/pytorch_1729647382455/work/c10/cuda/CUDAFunctions.cpp:108.)\n",
      "  return torch._C._cuda_getDeviceCount() > 0\n"
     ]
    }
   ],
   "source": [
    "# Mixed precision on CUDA if available\n",
    "use_fp16 = torch.cuda.is_available()\n",
    "\n",
    "args = TrainingArguments(\n",
    "    output_dir=ARTIF_DIR,\n",
    "    num_train_epochs=2,                 \n",
    "    per_device_train_batch_size=16,     \n",
    "    per_device_eval_batch_size=32,\n",
    "    learning_rate=2e-5,\n",
    "    weight_decay=0.01,\n",
    "    warmup_ratio=0.10,\n",
    "    eval_strategy=\"epoch\",\n",
    "    save_strategy=\"epoch\",\n",
    "    load_best_model_at_end=True,\n",
    "    metric_for_best_model=\"macro_f1\",   \n",
    "    greater_is_better=True,\n",
    "    fp16=use_fp16,\n",
    "    seed=SEED,\n",
    "    report_to=\"none\",                 \n",
    "    logging_steps=50\n",
    ")\n",
    "\n",
    "print(f\"Using fp16: {use_fp16} | Device: {'CUDA' if torch.cuda.is_available() else 'CPU/MPS'}\")\n"
   ]
  },
  {
   "cell_type": "code",
   "execution_count": 6,
   "id": "81d24794",
   "metadata": {},
   "outputs": [],
   "source": [
    "def compute_metrics(eval_pred):\n",
    "    logits, labels = eval_pred\n",
    "    preds = logits.argmax(axis=-1)\n",
    "    acc = accuracy_score(labels, preds)\n",
    "    macro = f1_score(labels, preds, average=\"macro\")\n",
    "    f1_neg = f1_score(labels, preds, pos_label=0)\n",
    "    f1_pos = f1_score(labels, preds, pos_label=1)\n",
    "    return {\n",
    "        \"accuracy\": acc,\n",
    "        \"macro_f1\": macro,\n",
    "        \"f1_neg\": f1_neg,\n",
    "        \"f1_pos\": f1_pos\n",
    "    }\n"
   ]
  },
  {
   "cell_type": "code",
   "execution_count": 7,
   "id": "258d1d7e",
   "metadata": {},
   "outputs": [
    {
     "name": "stderr",
     "output_type": "stream",
     "text": [
      "Some weights of DistilBertForSequenceClassification were not initialized from the model checkpoint at distilbert-base-uncased and are newly initialized: ['classifier.bias', 'classifier.weight', 'pre_classifier.bias', 'pre_classifier.weight']\n",
      "You should probably TRAIN this model on a down-stream task to be able to use it for predictions and inference.\n",
      "/tmp/ipykernel_13730/4159843094.py:3: FutureWarning: `tokenizer` is deprecated and will be removed in version 5.0.0 for `Trainer.__init__`. Use `processing_class` instead.\n",
      "  trainer = Trainer(\n"
     ]
    },
    {
     "data": {
      "text/html": [
       "\n",
       "    <div>\n",
       "      \n",
       "      <progress value='18146' max='18146' style='width:300px; height:20px; vertical-align: middle;'></progress>\n",
       "      [18146/18146 15:48:02, Epoch 2/2]\n",
       "    </div>\n",
       "    <table border=\"1\" class=\"dataframe\">\n",
       "  <thead>\n",
       " <tr style=\"text-align: left;\">\n",
       "      <th>Epoch</th>\n",
       "      <th>Training Loss</th>\n",
       "      <th>Validation Loss</th>\n",
       "      <th>Accuracy</th>\n",
       "      <th>Macro F1</th>\n",
       "      <th>F1 Neg</th>\n",
       "      <th>F1 Pos</th>\n",
       "    </tr>\n",
       "  </thead>\n",
       "  <tbody>\n",
       "    <tr>\n",
       "      <td>1</td>\n",
       "      <td>0.277100</td>\n",
       "      <td>0.291316</td>\n",
       "      <td>0.884935</td>\n",
       "      <td>0.879174</td>\n",
       "      <td>0.852792</td>\n",
       "      <td>0.905557</td>\n",
       "    </tr>\n",
       "    <tr>\n",
       "      <td>2</td>\n",
       "      <td>0.218500</td>\n",
       "      <td>0.290372</td>\n",
       "      <td>0.901426</td>\n",
       "      <td>0.896497</td>\n",
       "      <td>0.873910</td>\n",
       "      <td>0.919084</td>\n",
       "    </tr>\n",
       "  </tbody>\n",
       "</table><p>"
      ],
      "text/plain": [
       "<IPython.core.display.HTML object>"
      ]
     },
     "metadata": {},
     "output_type": "display_data"
    },
    {
     "name": "stdout",
     "output_type": "stream",
     "text": [
      "Training finished. Best checkpoint: ../artifacts/distilbert_binary/checkpoint-18146\n"
     ]
    }
   ],
   "source": [
    "model = AutoModelForSequenceClassification.from_pretrained(MODEL_NAME, num_labels=2)\n",
    "\n",
    "trainer = Trainer(\n",
    "    model=model,\n",
    "    args=args,\n",
    "    train_dataset=tok_tr,\n",
    "    eval_dataset=tok_val,\n",
    "    tokenizer=tokenizer,\n",
    "    compute_metrics=compute_metrics\n",
    ")\n",
    "\n",
    "train_out = trainer.train()\n",
    "print(\"Training finished. Best checkpoint:\", trainer.state.best_model_checkpoint)\n"
   ]
  },
  {
   "cell_type": "code",
   "execution_count": 8,
   "id": "0394f2af",
   "metadata": {},
   "outputs": [
    {
     "data": {
      "text/html": [],
      "text/plain": [
       "<IPython.core.display.HTML object>"
      ]
     },
     "metadata": {},
     "output_type": "display_data"
    },
    {
     "name": "stdout",
     "output_type": "stream",
     "text": [
      "Test metrics: {'eval_loss': 0.2706884741783142, 'eval_accuracy': 0.9055350965294052, 'eval_macro_f1': 0.9010334368662583, 'eval_f1_neg': 0.8799262393910021, 'eval_f1_pos': 0.9221406343415143, 'eval_runtime': 2846.4479, 'eval_samples_per_second': 18.889, 'eval_steps_per_second': 0.591, 'epoch': 2.0}\n"
     ]
    }
   ],
   "source": [
    "test_metrics = trainer.evaluate(eval_dataset=tok_te)\n",
    "print(\"Test metrics:\", test_metrics)\n",
    "\n",
    "# Save metrics as JSON \n",
    "with open(os.path.join(ARTIF_DIR, \"metrics_test.json\"), \"w\") as f:\n",
    "    json.dump({k: float(v) for k, v in test_metrics.items()}, f, indent=2)\n"
   ]
  },
  {
   "cell_type": "code",
   "execution_count": 11,
   "id": "3802c6db",
   "metadata": {},
   "outputs": [
    {
     "data": {
      "image/png": "[encoded data removed]",
      "text/plain": [
       "<Figure size 400x400 with 1 Axes>"
      ]
     },
     "metadata": {},
     "output_type": "display_data"
    },
    {
     "name": "stdout",
     "output_type": "stream",
     "text": [
      "Saved confusion matrix → ../reports/figures/distilbert_confusion_matrix.png\n"
     ]
    }
   ],
   "source": [
    "pred = trainer.predict(tok_te)\n",
    "y_true = pred.label_ids\n",
    "y_pred = pred.predictions.argmax(axis=-1)\n",
    "\n",
    "cm = confusion_matrix(y_true, y_pred, labels=[0, 1])\n",
    "\n",
    "fig, ax = plt.subplots(figsize=(4, 4))\n",
    "im = ax.imshow(cm, interpolation=\"nearest\")\n",
    "ax.set_title(\"DistilBERT — Confusion Matrix (Test)\")\n",
    "ax.set_xlabel(\"Predicted\")\n",
    "ax.set_ylabel(\"True\")\n",
    "ax.set_xticks([0,1]); ax.set_yticks([0,1])\n",
    "ax.set_xticklabels([\"0 (neg)\", \"1 (pos)\"]); ax.set_yticklabels([\"0 (neg)\", \"1 (pos)\"])\n",
    "for (i, j), v in np.ndenumerate(cm):\n",
    "    ax.text(j, i, str(v), ha=\"center\", va=\"center\")\n",
    "plt.tight_layout()\n",
    "\n",
    "out_fig = os.path.join(FIG_DIR, \"distilbert_confusion_matrix.png\")\n",
    "plt.savefig(out_fig, dpi=150)\n",
    "plt.show()\n",
    "print(f\"Saved confusion matrix → {out_fig}\")\n"
   ]
  },
  {
   "cell_type": "code",
   "execution_count": 12,
   "id": "82b0b4ce",
   "metadata": {},
   "outputs": [
    {
     "name": "stdout",
     "output_type": "stream",
     "text": [
      "Saved model/tokenizer to: ../artifacts/distilbert_binary/final\n"
     ]
    }
   ],
   "source": [
    "# Save the fine-tuned model and tokenizer \n",
    "save_dir = os.path.join(ARTIF_DIR, \"final\")\n",
    "trainer.save_model(save_dir)      \n",
    "tokenizer.save_pretrained(save_dir)\n",
    "\n",
    "print(\"Saved model/tokenizer to:\", save_dir)"
   ]
  }
 ],
 "metadata": {
  "kernelspec": {
   "display_name": "base",
   "language": "python",
   "name": "python3"
  },
  "language_info": {
   "codemirror_mode": {
    "name": "ipython",
    "version": 3
   },
   "file_extension": ".py",
   "mimetype": "text/x-python",
   "name": "python",
   "nbconvert_exporter": "python",
   "pygments_lexer": "ipython3",
   "version": "3.10.15"
  }
 },
 "nbformat": 4,
 "nbformat_minor": 5
}
